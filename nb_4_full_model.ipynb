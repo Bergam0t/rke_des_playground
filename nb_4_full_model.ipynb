{
  "cells": [
    {
      "cell_type": "markdown",
      "source": [
        "To begin with, click the 'play' button below the word 'setup'.  "
      ],
      "metadata": {
        "id": "iQoqawN4LZ85"
      }
    },
    {
      "cell_type": "code",
      "execution_count": null,
      "metadata": {
        "id": "5Wxf8MyRn8kC"
      },
      "outputs": [],
      "source": [
        "# @title Setup {display-mode: \"form\"}\n",
        "!git clone https://github.com/hsma-programme/Teaching_DES_Concepts_Streamlit.git\n",
        "%pip install simpy\n",
        "\n",
        "import gc\n",
        "import warnings\n",
        "warnings.simplefilter(action='ignore', category=FutureWarning)\n",
        "import pandas as pd\n",
        "import plotly.express as px\n",
        "import plotly.graph_objects as go\n",
        "from IPython.display import Markdown as md\n",
        "\n",
        "%cd /content/Teaching_DES_Concepts_Streamlit\n",
        "from model_classes import Scenario, multiple_replications\n",
        "from output_animation_functions import reshape_for_animations, animate_activity_log\n",
        "pd.options.mode.chained_assignment = None  # default='warn'\n",
        "print(\"Setup steps complete\")"
      ]
    },
    {
      "cell_type": "markdown",
      "metadata": {
        "id": "ncHDTAo6n8kE"
      },
      "source": [
        "# Set Parameters"
      ]
    },
    {
      "cell_type": "markdown",
      "metadata": {
        "id": "fRo284GXn8kE"
      },
      "source": [
        "Change the values using the sliders below.\n",
        "\n",
        "Once you have done this, click 'runtime' in the menu bar at the top of the screen, and then 'run all'.\n",
        "\n",
        "Alternatively, you can use the keyboard shortcut CTRL + F9.\n",
        "\n",
        "It will take about 90 seconds for all of the outputs to update. While the code is running, you will see a circular 'stop' button with a bar rotating around the outside. This means something is processing.\n",
        "\n",
        "![image.png](data:image/png;base64,iVBORw0KGgoAAAANSUhEUgAAAEUAAABOCAYAAAB2StvqAAAABHNCSVQICAgIfAhkiAAAABl0RVh0U29mdHdhcmUAZ25vbWUtc2NyZWVuc2hvdO8Dvz4AAAAqdEVYdENyZWF0aW9uIFRpbWUAVHVlIDEyIERlYyAyMDIzIDExOjMwOjE5IEdNVDXqA68AAATESURBVHic7drfb9JaAMDxb8uPShmQ0i22GWxmIVt80gdNTEz8533kwT2YRTN1ajMLZGVQ2tq10N4Hs907dzQBussezudtCT0cvivt6dmUV69e5Ui3qJuewEMkowjIKAIyioCMIiCjCMgoAjKKgIwiIKMIyCgCMoqAjCIgowjIKAIyioCMInBvUVT119CKolCpVNA07b7eqnDlIgdTFIVqtUqj0aBardJqtdA0jTiOmc/nJElCkiREUUQQBGRZVuTbF6awKNVqlWazycHBAbquo+s6iqIA/541cRxzdXVFGIZ4nsd0OmU2mzGfz4uaRiHWjlIul2m321iWxf7+Pnmek+c5aZpydXWF7/vUajXa7TZpmt7E29nZwfM8HMdhMBgU8VkKs1YUVVXpdDp0Oh1arRZZljEej5lMJkwmE3zfB2CxWJAkCYZhYBgG3W6Xra0tLMvCMAxarRZnZ2ekaUqeb/6PC2tFsW2bXq/Ho0ePSNOU09NTLi4uMAyDTqeDZVm3Xj8YDHBdl7dv32JZFru7u5imycHBAeVymS9fvvDz58+1PlARVoqiqiqmaXJ0dISmacxmM759+8bl5SUvX75E13XhcZZlYVkWURTx7t07zs7OUFWV7e1tLMsiCAK+f/++8bNlpVuyruvs7e1Rr9eZTCZ8/vyZLMt48+bNH4P8fvzr16/RNI0PHz7cXHe63S7NZnOVKRVq6SiqqmIYBtvb2wCcn58TxzHPnj1b+s2fP39OlmWcnJwQhiGGYbC/v0+5XOhKYWlLR9F1HdM0qVQqxHHM+fn5SkGuvXjxAt/3GY1G5HmOYRjU6/WVxyvC0r+Ser3O1tYWcRzz9etXLMu685XxPA/P84THm6aJaZo3P+u6zs7ODr7vkyQJuq5jGAaz2Wxji7ulo4RhSBAEBEHAaDTi8PDwzms8z+Pjx4/C44+Ojm5FgV8X4JOTE9I0RdM0arUapVJpY1GW/vpEUcSnT594//49s9kM27bXnoRt26RpynA4JM9z2u02i8Vi7XFXtXSULMsIgoD5fF7orTNNU6IoQlEU8jzf6APkg9o6aDQazOdzFouFjAK/bvWaplEqlVAUhTRNNzeXdQdwXXftSbiui67rNxfWJEkIw3DtcVe19ippOBzeudhePwKI/H7nuR5D0zQ0TUNRFKIoWndaa1k7iuM4HB4e3lqr/L4W+ZsoinAch16vR7PZJI7jP65x/i+FXFP6/f5axzYaDWzbplQq4bou4/G4iGmtrJAovu9zfHy89HHHx8ekacru7i71ep0gCBiPxxtdo0CB25GO4zCdTv+6dXAtiiL6/T5hGPL06VNs26ZSqTAYDJhOp0VNaWXKffwfbbfb5fHjx3cuwK7rMhwOcRyHWq3G3t4evV4PgPF4TL/fZ7FYbHw/5V6e0R3HwXGcv76m2+3y5MkT0jRlNBpxenr6YDawN7Zx4fs+0+mUy8tLfvz4sfHb8H9tLMpoNCJJEnzffzBnyLWNRbne+X+IHsyzz0MiowjIKAIyioCMIiCjCMgoAjKKgIwiIKMIyCgCMoqAjCIgowjIKAIyioCMIiCjCMgoAjKKgIwiIKMIyCgCMoqAjCIgowjIKAIyioCMIiCjCMgoAjKKgIwi8A9ZoNXWD8OQPwAAAABJRU5ErkJggg==)\n",
        "\n",
        "When the code has finished running, it will change back to this:\n",
        "\n",
        "![image.png](data:image/png;base64,iVBORw0KGgoAAAANSUhEUgAAACsAAAApCAYAAACsldDLAAAABHNCSVQICAgIfAhkiAAAABl0RVh0U29mdHdhcmUAZ25vbWUtc2NyZWVuc2hvdO8Dvz4AAAAqdEVYdENyZWF0aW9uIFRpbWUAVHVlIDEyIERlYyAyMDIzIDExOjMxOjIzIEdNVDVkaT4AAAGnSURBVFiF7Zcxj8IgFMf/Xm7sXna+hEl32R3t4MbS0aSbDnXjI3TTwe+As3yM7rDX2VvO5K5VW6DcxYTfSHiPXwK8B7P5fH7Dm/Dx3wI2RNlQRNlQRNlQRNlQvJXsp08wYwxZliHLsl/jSilcLhecz2cvuS4zl7cBpRRVVYEQ8nKe1hq73Q5N0zgL/sT6GDDGUNf1oCgAEEJQ1zUYY05yXaxkKaUoy9J6kbIsQSm1jutiJbvf73tjWutR21xVlc1SDxktyxhDmqa9ca01OOcQQqBt26fxhBDv4zBatnvju0gpkec5jsejc44hJpMFgLZtcTgckOc5lFJOOV4RpCncS9Zms5msbAGBO9jtNu33zquDPSNNUxRF4b3tXUbLKqUGF0+SBMvlEuv1+mkOHyaTXSwWKIoCSZK8zOGD1dvgdDr1aq3WGtfrdbBDGWOwWq3cLL+xumDb7bY3RggZ1UofxdpiJds0DYQQ1osIISYpYdalS0oJzjmMMYNzjTHgnENK6STXxek9e+fV41spNZnkHS/Zv+at/mBRNhRRNhRRNhRRNhRRNhRfdkyQnl2/LrcAAAAASUVORK5CYII=)\n",
        "\n",
        "You can scroll down now and look at the animated event log and graphs."
      ]
    },
    {
      "cell_type": "code",
      "execution_count": null,
      "metadata": {
        "id": "NkQjhFL4n8kF"
      },
      "outputs": [],
      "source": [
        "# @title Model Parameters {display-mode: \"form\"}\n",
        "# General Details\n",
        "\n",
        "# @markdown ---\n",
        "# @markdown ### Overall Emergency Department Settings\n",
        "# @markdown #### Set the number of triage bays\n",
        "n_triage = 3 # @param {type:\"slider\", min:1, max:10, step:1}\n",
        "# @markdown #### Set the probability that a client arriving is a trauma patient (0 = no-one is a trauma patient, 1 = everyone is a trauma patient)\n",
        "prob_trauma = 0.3 # @param {type:\"slider\", min:0, max:1, step:0.01}\n",
        "\n",
        "###################################\n",
        "\n",
        "\n",
        "# @markdown ---\n",
        "# @markdown ### Trauma Pathway Settings\n",
        "# @markdown #### Set the number of trauma stabilisation cubicles\n",
        "n_trauma = 6 # @param {type:\"slider\", min:1, max:10, step:1}\n",
        "# @markdown #### Set the number of trauma treatment cubicles\n",
        "n_cubicles_2 = 6 # @param {type:\"slider\", min:1, max:10, step:1}\n",
        "\n",
        "###################################\n",
        "\n",
        "\n",
        "# @markdown ---\n",
        "# @markdown ### Non-trauma pathway settings\n",
        "# @markdown #### Set the number of non-trauma registration bays\n",
        "n_reg = 3 # @param {type:\"slider\", min:1, max:10, step:1}\n",
        "# @markdown #### Set the number of non-trauma examination rooms\n",
        "n_exam = 7 # @param {type:\"slider\", min:1, max:10, step:1}\n",
        "# @markdown #### Set the number of non-trauma treatment cubicles\n",
        "n_cubicles_1 = 2  # @param {type:\"slider\", min:1, max:10, step:1} # Probability that a generated non-trauma patient is a trauma patient (set between 0 and 1). DEFAULT: 0.7\n",
        "# @markdown #### Set the probability that a client arriving is a trauma patient (0 = no-one on the non-trauma pathway needs treatment, 1 = everyone on the non-trauma pathway needs treatment)\n",
        "non_trauma_treat_p = 0.7 # @param {type:\"slider\", min:0, max:1, step:0.01}\n",
        "\n",
        "###################################\n",
        "\n",
        "\n",
        "# @markdown ---\n",
        "# @markdown ### Model Settings\n",
        "# @markdown WARNING: Adjusting the n_reps and run_time days upwards will make the model take significantly longer to run.\n",
        "# @markdown #### Set the random seed\n",
        "seed = 42 # @param {type:\"integer\"}\n",
        "# @markdown #### Set the number of model replications\n",
        "n_reps = 3 # @param {type:\"slider\", min:0, max:10, step:1}\n",
        "# @markdown #### Set the number of simulated days the model will run for\n",
        "run_time_days = 5 # @param {type:\"slider\", min:0, max:30, step:1}"
      ]
    },
    {
      "cell_type": "code",
      "execution_count": null,
      "metadata": {
        "id": "_XgF0YbKn8kF"
      },
      "outputs": [],
      "source": [
        "# @title Animated Log {display-mode: \"form\"}\n",
        "args = Scenario(\n",
        "        random_number_set=seed,\n",
        "                 n_triage=n_triage,\n",
        "                 n_reg=n_reg,\n",
        "                 n_exam=n_exam,\n",
        "                 n_trauma=n_trauma,\n",
        "                 n_cubicles_1=n_cubicles_1,\n",
        "                 n_cubicles_2=n_cubicles_2,\n",
        "                 non_trauma_treat_p=non_trauma_treat_p,\n",
        "                 prob_trauma=prob_trauma)\n",
        "\n",
        "detailed_outputs = multiple_replications(\n",
        "                args,\n",
        "                n_reps=n_reps,\n",
        "                rc_period=run_time_days*60*24,\n",
        "                return_detailed_logs=True\n",
        "            )\n",
        "\n",
        "\n",
        "results = pd.concat([detailed_outputs[i]['results']['summary_df'].assign(rep= i+1)\n",
        "                            for i in range(n_reps)]).set_index('rep')\n",
        "\n",
        "full_event_log = pd.concat([detailed_outputs[i]['results']['full_event_log'].assign(rep= i+1)\n",
        "                            for i in range(n_reps)])\n",
        "\n",
        "del detailed_outputs\n",
        "gc.collect()\n",
        "\n",
        "animation_dfs_log = reshape_for_animations(\n",
        "    full_event_log=full_event_log[\n",
        "        (full_event_log['rep']==1) &\n",
        "        ((full_event_log['event_type']=='queue') | (full_event_log['event_type']=='resource_use')  | (full_event_log['event_type']=='arrival_departure')) &\n",
        "            # Limit to first 5 days\n",
        "        (full_event_log['time'] <= 60*24*5)\n",
        "    ],\n",
        "    every_x_minutes=5\n",
        ")['full_patient_df']\n",
        "\n",
        "del full_event_log\n",
        "gc.collect()\n",
        "\n",
        "event_position_df = pd.DataFrame([\n",
        "                # {'event': 'arrival', 'x':  10, 'y': 250, 'label': \"Arrival\" },\n",
        "\n",
        "                # Triage - minor and trauma\n",
        "                {'event': 'triage_wait_begins',\n",
        "                 'x':  160, 'y': 400, 'label': \"Waiting for<br>Triage\"  },\n",
        "                {'event': 'triage_begins',\n",
        "                 'x':  160, 'y': 315, 'resource':'n_triage', 'label': \"Being Triaged\" },\n",
        "\n",
        "                # Minors (non-trauma) pathway\n",
        "                {'event': 'MINORS_registration_wait_begins',\n",
        "                 'x':  300, 'y': 145, 'label': \"Waiting for<br>Registration\"  },\n",
        "                {'event': 'MINORS_registration_begins',\n",
        "                 'x':  300, 'y': 85, 'resource':'n_reg', 'label':'Being<br>Registered'  },\n",
        "\n",
        "                {'event': 'MINORS_examination_wait_begins',\n",
        "                 'x':  465, 'y': 145, 'label': \"Waiting for<br>Examination\"  },\n",
        "                {'event': 'MINORS_examination_begins',\n",
        "                 'x':  465, 'y': 85, 'resource':'n_exam', 'label': \"Being<br>Examined\" },\n",
        "\n",
        "                {'event': 'MINORS_treatment_wait_begins',\n",
        "                 'x':  630, 'y': 145, 'label': \"Waiting for<br>Treatment\"  },\n",
        "                {'event': 'MINORS_treatment_begins',\n",
        "                 'x':  630, 'y': 85, 'resource':'n_cubicles_1', 'label': \"Being<br>Treated\" },\n",
        "\n",
        "                # Trauma pathway\n",
        "                {'event': 'TRAUMA_stabilisation_wait_begins',\n",
        "                 'x': 300, 'y': 560, 'label': \"Waiting for<br>Stabilisation\" },\n",
        "                {'event': 'TRAUMA_stabilisation_begins',\n",
        "                 'x': 300, 'y': 500, 'resource':'n_trauma', 'label': \"Being<br>Stabilised\" },\n",
        "\n",
        "                {'event': 'TRAUMA_treatment_wait_begins',\n",
        "                 'x': 630, 'y': 560, 'label': \"Waiting for<br>Treatment\" },\n",
        "                {'event': 'TRAUMA_treatment_begins',\n",
        "                 'x': 630, 'y': 500, 'resource':'n_cubicles_2', 'label': \"Being<br>Treated\" },\n",
        "\n",
        "                 {'event': 'exit',\n",
        "                 'x':  670, 'y': 330, 'label': \"Exit\"}\n",
        "            ])\n",
        "\n",
        "animated_plot = animate_activity_log(\n",
        "                    full_patient_df=animation_dfs_log[animation_dfs_log[\"minute\"]<=60*24*5],\n",
        "                    event_position_df = event_position_df,\n",
        "                    scenario=args,\n",
        "                    include_play_button=True,\n",
        "                    return_df_only=False,\n",
        "                    plotly_height=900,\n",
        "                    plotly_width=1600,\n",
        "                    override_x_max=700,\n",
        "                    override_y_max=675,\n",
        "                    icon_and_text_size=24,\n",
        "                    display_stage_labels=False,\n",
        "                    wrap_queues_at=10,\n",
        "                    time_display_units=\"dhm\",\n",
        "                    # show_animated_clock=True,\n",
        "                    # animated_clock_coordinates = [100, 50],\n",
        "                    add_background_image=\"https://raw.githubusercontent.com/hsma-programme/Teaching_DES_Concepts_Streamlit/main/resources/Full%20Model%20Background%20Image%20-%20Horizontal%20Layout.drawio.png\",\n",
        "            )\n",
        "\n",
        "del animation_dfs_log\n",
        "gc.collect()\n",
        "\n",
        "animated_plot.update_layout(\n",
        "    plot_bgcolor='black'\n",
        ")\n",
        "\n",
        "animated_plot"
      ]
    },
    {
      "cell_type": "markdown",
      "metadata": {
        "id": "UBUwqP-Qn8kG"
      },
      "source": [
        "## Simple Metrics"
      ]
    },
    {
      "cell_type": "code",
      "execution_count": null,
      "metadata": {
        "id": "j5-HCarDn8kG"
      },
      "outputs": [],
      "source": [
        "# @title Utilisation In Range {display-mode: \"form\"}\n",
        "\n",
        "in_range_util = sum((results.mean().filter(like=\"util\")<0.85) & (results.mean().filter(like=\"util\") > 0.65))\n",
        "in_range_wait = sum((results.mean().filter(like=\"wait\")<120))\n",
        "\n",
        "\n",
        "md(\"**Utilisation Metrics in Ideal Range**: {} of {}\".format(in_range_util, len(results.mean().filter(like=\"util\"))))"
      ]
    },
    {
      "cell_type": "markdown",
      "metadata": {
        "id": "mEVHQIKwn8kG"
      },
      "source": [
        "The emergency department wants to aim for an average of 65% to 85% utilisation across all resources in the emergency department.\n",
        "\n",
        "The green box shows this ideal range. If the bars overlap with the green box, utilisation is ideal.\n",
        "\n",
        "If utilisation is below this, you might want to **reduce** the number of those resources available.\n",
        "\n",
        "If utilisation is above this point, you may want to **increase** the number of that type of resource available."
      ]
    },
    {
      "cell_type": "code",
      "execution_count": null,
      "metadata": {
        "id": "jv72nX2-n8kH"
      },
      "outputs": [],
      "source": [
        "# @title Utilisation Graph {display-mode: \"form\"}\n",
        "\n",
        "util_fig_simple = go.Figure()\n",
        "# Add optimum range\n",
        "util_fig_simple.add_hrect(y0=0.65, y1=0.85,\n",
        "                         fillcolor=\"#5DFDA0\", opacity=0.25,  line_width=0)\n",
        "# Add extreme range (above)\n",
        "util_fig_simple.add_hrect(y0=0.85, y1=1,\n",
        "                         fillcolor=\"#D45E5E\", opacity=0.25, line_width=0)\n",
        "# Add suboptimum range (below)\n",
        "util_fig_simple.add_hrect(y0=0.4, y1=0.65,\n",
        "                         fillcolor=\"#FDD049\", opacity=0.25, line_width=0)\n",
        "# Add extreme range (below)\n",
        "util_fig_simple.add_hrect(y0=0, y1=0.4,\n",
        "                         fillcolor=\"#D45E5E\", opacity=0.25, line_width=0)\n",
        "\n",
        "util_fig_simple.add_bar(x=results.mean().filter(like=\"util\").index.tolist(),\n",
        "                    y=results.mean().filter(like=\"util\").tolist())\n",
        "\n",
        "util_fig_simple.update_layout(yaxis_tickformat = '.0%')\n",
        "util_fig_simple.update_yaxes(title_text='Resource Utilisation (%)',\n",
        "                         range=[-0.05, 1.1])\n",
        "# util_fig_simple.data = util_fig_simple.data[::-1]\n",
        "util_fig_simple.update_xaxes(labelalias={\n",
        "\"01b_triage_util\": \"Triage<br>Bays\",\n",
        "\"02b_registration_util\": \"Registration<br>Cubicles\",\n",
        "\"03b_examination_util\": \"Examination<br>Bays\",\n",
        "\"04b_treatment_util(non_trauma)\": \"Treatment<br>Bays<br>(non-trauma)\",\n",
        "\"06b_trauma_util\": \"Stabilisation<br>Bays\",\n",
        "\"07b_treatment_util(trauma)\": \"Treatment<br>Bays<br>(trauma)\"\n",
        "}, tickangle=0)\n",
        "\n",
        "util_fig_simple"
      ]
    },
    {
      "cell_type": "code",
      "execution_count": null,
      "metadata": {
        "id": "y7Rb400bz9TE"
      },
      "outputs": [],
      "source": [
        "# @title Waits In Range {display-mode: \"form\"}\n",
        "md(\"**Wait Metrics in Ideal Range**: {} of {}\".format(in_range_wait, len(results.mean().filter(like=\"wait\"))))"
      ]
    },
    {
      "cell_type": "markdown",
      "metadata": {
        "id": "VixJQCMkz9rQ"
      },
      "source": [
        "The emergency department wants to ensure people wait no longer than 2 hours (120 minutes) at any point in the process.\n",
        "                    \n",
        "This needs to be balanced with the utilisation graphs on the left.\n",
        "\n",
        "The green box shows waits of less than two hours. If the bars fall within this range, the number of resources does not need to be changed."
      ]
    },
    {
      "cell_type": "code",
      "execution_count": null,
      "metadata": {
        "id": "Spiuc7tpz99m"
      },
      "outputs": [],
      "source": [
        "# @title Wait Graph {display-mode: \"form\"}\n",
        "\n",
        "wait_fig_simple = go.Figure()\n",
        "wait_fig_simple.add_hrect(y0=0, y1=60*2, fillcolor=\"#5DFDA0\",\n",
        "                          opacity=0.3, line_width=0)\n",
        "\n",
        "wait_fig_simple.add_bar(x=results.mean().filter(like=\"wait\").index.tolist(),\n",
        "                        y=results.mean().filter(like=\"wait\").tolist())\n",
        "\n",
        "wait_fig_simple.update_xaxes(labelalias={\n",
        "    \"01a_triage_wait\": \"Triage\",\n",
        "    \"02a_registration_wait\": \"Registration\",\n",
        "    \"03a_examination_wait\": \"Examination\",\n",
        "    \"04a_treatment_wait(non_trauma)\": \"Treatment<br>(non-trauma)\",\n",
        "    \"06a_trauma_wait\": \"Stabilisation\",\n",
        "    \"07a_treatment_wait(trauma)\": \"Treatment<br>(trauma)\"\n",
        "}, tickangle=0)\n",
        "# wait_fig_simple.data = wait_fig_simple.data[::-1]\n",
        "wait_fig_simple.update_yaxes(title_text='Wait for Treatment Stage (Minutes)')\n",
        "\n",
        "wait_fig_simple"
      ]
    },
    {
      "cell_type": "markdown",
      "metadata": {
        "id": "kbY11K1d0luJ"
      },
      "source": [
        "# Advanced Graphs\n",
        "\n",
        "We can use box plots to explore the effect of the random variation within each model run.\n",
        "                        \n",
        "This can give us a better idea of how robust the system is.\n",
        "\n",
        "Each dot indicates a single model run. The number of runs can be increased under the advanced options."
      ]
    },
    {
      "cell_type": "markdown",
      "metadata": {
        "id": "Wr-5rycV0jKY"
      },
      "source": [
        "## Average utilisation\n",
        "\n",
        "The emergency department wants to aim for an average of 65% to 85% utilisation across all resources in the emergency department.\n",
        "                    \n",
        "The green box shows this ideal range. If the bars overlap with the green box, utilisation is ideal.\n",
        "\n",
        "If utilisation is below this, you might want to **reduce** the number of those resources available.\n",
        "\n",
        "If utilisation is above this point, you may want to **increase** the number of that type of resource available."
      ]
    },
    {
      "cell_type": "code",
      "execution_count": null,
      "metadata": {
        "id": "iWlGO0rc0jRd"
      },
      "outputs": [],
      "source": [
        "# @title Utilisation Boxplot {display-mode: \"form\"}\n",
        "\n",
        "utilisation_boxplot = px.box(\n",
        "                    results.reset_index().melt(id_vars=\"rep\").set_index('variable').filter(like=\"util\", axis=0).reset_index(),\n",
        "                    y=\"variable\",\n",
        "                    x=\"value\",\n",
        "                    points=\"all\",\n",
        "                    range_x=[0, 1])\n",
        "\n",
        "utilisation_boxplot.add_vrect(x0=0.65, x1=0.85,\n",
        "                          fillcolor=\"#5DFDA0\", opacity=0.25,  line_width=0)\n",
        "# Add extreme range (above)\n",
        "utilisation_boxplot.add_vrect(x0=0.85, x1=1,\n",
        "                          fillcolor=\"#D45E5E\", opacity=0.25, line_width=0)\n",
        "# Add suboptimum range (below)\n",
        "utilisation_boxplot.add_vrect(x0=0.4, x1=0.65,\n",
        "                          fillcolor=\"#FDD049\", opacity=0.25, line_width=0)\n",
        "# Add extreme range (below)\n",
        "utilisation_boxplot.add_vrect(x0=0, x1=0.4,\n",
        "                          fillcolor=\"#D45E5E\", opacity=0.25, line_width=0)\n",
        "\n",
        "utilisation_boxplot.update_yaxes(labelalias={\n",
        "    \"01b_triage_util\": \"Triage<br>Bays\",\n",
        "    \"02b_registration_util\": \"Registration<br>Cubicles\",\n",
        "    \"03b_examination_util\": \"Examination<br>Bays\",\n",
        "    \"04b_treatment_util(non_trauma)\": \"Treatment<br>Bays<br>(non-trauma)\",\n",
        "    \"06b_trauma_util\": \"Stabilisation<br>Bays\",\n",
        "    \"07b_treatment_util(trauma)\": \"Treatment<br>Bays<br>(trauma)\"\n",
        "}, tickangle=0, title_text='')\n",
        "\n",
        "utilisation_boxplot.update_xaxes(title_text='Resource Utilisation (%)',\n",
        "                range=[-0.05, 1.1])\n",
        "\n",
        "utilisation_boxplot.update_layout(xaxis_tickformat = '.0%')\n",
        "\n",
        "utilisation_boxplot"
      ]
    },
    {
      "cell_type": "markdown",
      "metadata": {
        "id": "aZQ2JH9i0_cZ"
      },
      "source": [
        "## Average Waits\n",
        "\n",
        "The emergency department wants to ensure people wait no longer than 2 hours (120 minutes) at any point in the process.\n",
        "                    \n",
        "This needs to be balanced with the utilisation graphs on the left.\n",
        "\n",
        "The green box shows waits of less than two hours. If the bars fall within this range, the number of resources does not need to be changed."
      ]
    },
    {
      "cell_type": "code",
      "execution_count": null,
      "metadata": {
        "id": "4Arwemg_1F5d"
      },
      "outputs": [],
      "source": [
        "# @title Wait Boxplot {display-mode: \"form\"}\n",
        "\n",
        "wait_boxplot = px.box(\n",
        "                    results.reset_index().melt(id_vars=\"rep\").set_index('variable')\n",
        "                    .filter(like=\"wait\", axis=0).reset_index(),\n",
        "                    y=\"variable\",\n",
        "                    x=\"value\",\n",
        "                    points=\"all\")\n",
        "\n",
        "wait_boxplot.update_yaxes(labelalias={\n",
        "    \"01a_triage_wait\": \"Triage\",\n",
        "    \"02a_registration_wait\": \"Registration\",\n",
        "    \"03a_examination_wait\": \"Examination\",\n",
        "    \"04a_treatment_wait(non_trauma)\": \"Treatment<br>(non-trauma)\",\n",
        "    \"06a_trauma_wait\": \"Stabilisation\",\n",
        "    \"07a_treatment_wait(trauma)\": \"Treatment<br>(trauma)\"\n",
        "}, tickangle=0, title_text='')\n",
        "\n",
        "wait_boxplot.add_vrect(x0=0, x1=60*2, fillcolor=\"#5DFDA0\",\n",
        "                          opacity=0.3, line_width=0)\n",
        "\n",
        "wait_boxplot.update_xaxes(title_text='Wait for Treatment Stage (Minutes)')\n",
        "\n",
        "wait_boxplot"
      ]
    }
  ],
  "metadata": {
    "colab": {
      "provenance": []
    },
    "kernelspec": {
      "display_name": "Python 3",
      "name": "python3"
    },
    "language_info": {
      "name": "python"
    }
  },
  "nbformat": 4,
  "nbformat_minor": 0
}